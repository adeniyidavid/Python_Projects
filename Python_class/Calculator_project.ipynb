{
 "cells": [
  {
   "cell_type": "markdown",
   "id": "4d04a017-346f-4613-afad-5bc0ce8104b4",
   "metadata": {},
   "source": [
    "Create a calculator program that allows the user to perform mathematical operations on two numbers using basic functions and a dictionary to store the operations. The program should also have the ability to continue calculations with the result of previous calculations.\n",
    "\n",
    "\n",
    "Instructions\n",
    "\n",
    "Create four basic mathematical functions: 'add', 'subtract', 'multiply', and 'divide' that take in two numbers and return the result of the operation.\n",
    "Create a dictionary 'operations' that assigns the functions to their corresponding operation symbols.\n",
    "Create a function 'calculator' that prompts the user to input the first number.\n",
    "Use a for loop to print the available operation symbols.\n",
    "Create a while loop that will continue to run until the user chooses to end the current calculation.\n",
    "Inside the while loop, prompt the user to select an operation symbol.\n",
    "Prompt the user to input the second number.\n",
    "Use the dictionary to retrieve the function that corresponds to the selected operation symbol and store it in a variable 'calculation_function'\n",
    "Perform the calculation by calling the 'calculation_function' on the two input numbers and store the result in a variable 'answer'.\n",
    "Print the equation and the result of the calculation.\n",
    "Ask the user if they would like to continue using the result as the first number for further calculations.\n",
    "If the user chooses to continue, update the 'num1' variable to the value of 'answer'.\n",
    "If the user chooses to start a new calculation, set the 'should_continue' variable to false and call the 'calculator' function to start a new calculation.\n",
    "Note: Make sure to test the program with different inputs and operations to ensure that it is functioning properly."
   ]
  },
  {
   "cell_type": "code",
   "execution_count": null,
   "id": "8cb97d19-f155-4333-b728-f1bd50a4f2b1",
   "metadata": {},
   "outputs": [
    {
     "name": "stdout",
     "output_type": "stream",
     "text": [
      "Hello!, Welcome to basic Maths operation\n",
      "---Menu---\n",
      " Addition\n",
      " Subtraction\n",
      " Multiplication\n",
      " Division\n",
      " Exit\n"
     ]
    },
    {
     "name": "stdin",
     "output_type": "stream",
     "text": [
      "What operation would you like to perform: Addition\n",
      "Enter your first number:  56\n",
      "Enter your second number:  34\n"
     ]
    },
    {
     "name": "stdout",
     "output_type": "stream",
     "text": [
      "The answer is: 90\n"
     ]
    },
    {
     "name": "stdin",
     "output_type": "stream",
     "text": [
      "Type 'yes' to continue calculating with 90, or 'no' to start a new calculation:  no\n"
     ]
    },
    {
     "name": "stdout",
     "output_type": "stream",
     "text": [
      "Hello!, Welcome to basic Maths operation\n",
      "---Menu---\n",
      " Addition\n",
      " Subtraction\n",
      " Multiplication\n",
      " Division\n",
      " Exit\n"
     ]
    }
   ],
   "source": [
    "def add(a,b):\n",
    "    return a+b\n",
    "    \n",
    "def subtract(a,b):\n",
    "    return a-b\n",
    "\n",
    "def multiply(a,b):\n",
    "    return a*b\n",
    "\n",
    "def divide(a,b):\n",
    "    return a/b\n",
    "\n",
    "def calculator():\n",
    "    while True:\n",
    "        print('Hello!, Welcome to basic Maths operation')\n",
    "        print('---Menu---')\n",
    "        print(' Addition')\n",
    "        print(' Subtraction')\n",
    "        print(' Multiplication')\n",
    "        print(' Division')\n",
    "        print(' Exit')\n",
    "        \n",
    "        user_operation = input('What operation would you like to perform:' ).capitalize()\n",
    "    \n",
    "        if user_operation == 'Exit':\n",
    "            print('Goodbye!!!')\n",
    "            break\n",
    "    \n",
    "        user_input1 = int(input('Enter your first number: '))\n",
    "        user_input2 = int(input('Enter your second number: '))\n",
    "    \n",
    "        if user_operation == 'Addition':\n",
    "            answer = add(user_input1, user_input2)\n",
    "    \n",
    "        elif user_operation == 'Subtraction':\n",
    "            answer = subtract(user_input1, user_input2)\n",
    "    \n",
    "        elif user_operation == 'Multiplication':\n",
    "            answer = multiply(user_input1, user_input2)\n",
    "    \n",
    "        elif user_operation == 'Division':\n",
    "            answer = divide(user_input1, user_input2)\n",
    "            \n",
    "        else:\n",
    "            print('invalid operation')\n",
    "            \n",
    "        print(f\"The answer is:\", answer)\n",
    "\n",
    "        next_step = input(f\"Type 'yes' to continue calculating with {answer}, or 'no' to start a new calculation: \").lower()\n",
    "        if next_step == 'yes':\n",
    "            num1 = answer  # Set num1 to the current answer for the next operation\n",
    "        else:\n",
    "            should_continue = False\n",
    "            calculator()  # Start a new calculation\n",
    "\n",
    "# Start the calculator program\n",
    "calculator()"
   ]
  },
  {
   "cell_type": "code",
   "execution_count": null,
   "id": "cca49625-45fa-4c88-8a35-4c016f38868f",
   "metadata": {},
   "outputs": [],
   "source": []
  }
 ],
 "metadata": {
  "kernelspec": {
   "display_name": "Python 3 (ipykernel)",
   "language": "python",
   "name": "python3"
  },
  "language_info": {
   "codemirror_mode": {
    "name": "ipython",
    "version": 3
   },
   "file_extension": ".py",
   "mimetype": "text/x-python",
   "name": "python",
   "nbconvert_exporter": "python",
   "pygments_lexer": "ipython3",
   "version": "3.12.7"
  }
 },
 "nbformat": 4,
 "nbformat_minor": 5
}
