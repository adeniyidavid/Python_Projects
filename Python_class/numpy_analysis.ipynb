{
 "cells": [
  {
   "cell_type": "code",
   "execution_count": 81,
   "id": "4adb783e-00f0-49e2-b713-0bb3a7ee3758",
   "metadata": {},
   "outputs": [],
   "source": [
    "# Import the numpy library and create the \"grades\" array as specified \n",
    "import numpy as np\n",
    "grades = np.array([85, 90, 88, 92, 95, 80, 75, 98, 89, 83])"
   ]
  },
  {
   "cell_type": "code",
   "execution_count": 3,
   "id": "3df0e637-068e-4384-907a-57af298e0df3",
   "metadata": {},
   "outputs": [
    {
     "data": {
      "text/plain": [
       "array([85, 90, 88, 92, 95, 80, 75, 98, 89, 83])"
      ]
     },
     "execution_count": 3,
     "metadata": {},
     "output_type": "execute_result"
    }
   ],
   "source": [
    "grades"
   ]
  },
  {
   "cell_type": "code",
   "execution_count": 49,
   "id": "df536855-faf8-434f-9517-e2c641ed3504",
   "metadata": {},
   "outputs": [
    {
     "data": {
      "text/plain": [
       "87.5"
      ]
     },
     "execution_count": 49,
     "metadata": {},
     "output_type": "execute_result"
    }
   ],
   "source": [
    "# Calculate mean\n",
    "grades_mean = np.mean(grades)\n",
    "grades_mean"
   ]
  },
  {
   "cell_type": "code",
   "execution_count": 53,
   "id": "0203f814-e436-4df0-95e3-6d366519a3e6",
   "metadata": {},
   "outputs": [
    {
     "data": {
      "text/plain": [
       "88.5"
      ]
     },
     "execution_count": 53,
     "metadata": {},
     "output_type": "execute_result"
    }
   ],
   "source": [
    "# median\n",
    "grades_median = np.median(grades)\n",
    "grades_median"
   ]
  },
  {
   "cell_type": "code",
   "execution_count": 55,
   "id": "f62291d3-84ae-44b6-a16f-b5ababf21c66",
   "metadata": {},
   "outputs": [
    {
     "data": {
      "text/plain": [
       "6.591661399070799"
      ]
     },
     "execution_count": 55,
     "metadata": {},
     "output_type": "execute_result"
    }
   ],
   "source": [
    "# standard deviation\n",
    "grades_std = np.std(grades)\n",
    "grades_std"
   ]
  },
  {
   "cell_type": "code",
   "execution_count": 67,
   "id": "a2c4e379-802c-4d29-9eb3-4583e879dbda",
   "metadata": {},
   "outputs": [
    {
     "data": {
      "text/plain": [
       "98"
      ]
     },
     "execution_count": 67,
     "metadata": {},
     "output_type": "execute_result"
    }
   ],
   "source": [
    "grades_max = np.max(grades)\n",
    "grades_max"
   ]
  },
  {
   "cell_type": "code",
   "execution_count": 65,
   "id": "16ef21e2-54a3-4512-8fcf-6bd3181e2010",
   "metadata": {},
   "outputs": [
    {
     "data": {
      "text/plain": [
       "75"
      ]
     },
     "execution_count": 65,
     "metadata": {},
     "output_type": "execute_result"
    }
   ],
   "source": [
    "grades_min = np.min(grades)\n",
    "grades_min"
   ]
  },
  {
   "cell_type": "code",
   "execution_count": 69,
   "id": "84fb8c16-b5ec-4c98-a7be-5ebe7623f57a",
   "metadata": {},
   "outputs": [
    {
     "data": {
      "text/plain": [
       "array([75, 80, 83, 85, 88, 89, 90, 92, 95, 98])"
      ]
     },
     "execution_count": 69,
     "metadata": {},
     "output_type": "execute_result"
    }
   ],
   "source": [
    "# Use numpy function to sort the grades in ascending order.\n",
    "sorted_grades = np.sort(grades)\n",
    "sorted_grades"
   ]
  },
  {
   "cell_type": "code",
   "execution_count": 75,
   "id": "dbed855a-7a5c-4085-b98a-2e2363ea715e",
   "metadata": {},
   "outputs": [
    {
     "data": {
      "text/plain": [
       "7"
      ]
     },
     "execution_count": 75,
     "metadata": {},
     "output_type": "execute_result"
    }
   ],
   "source": [
    "# Use numpy function to find the index of the highest grade in the array\n",
    "index_highest_grade = np.argmax(grades)\n",
    "index_highest_grade"
   ]
  },
  {
   "cell_type": "code",
   "execution_count": 37,
   "id": "d3b77de9-4c2c-49f3-9381-1c1487bc0c45",
   "metadata": {},
   "outputs": [
    {
     "data": {
      "text/plain": [
       "3"
      ]
     },
     "execution_count": 37,
     "metadata": {},
     "output_type": "execute_result"
    }
   ],
   "source": [
    "# Use numpy function to count the number of students who scored above 90.\n",
    "students_above_90 = np.sum(grades > 90)\n",
    "students_above_90"
   ]
  },
  {
   "cell_type": "code",
   "execution_count": 79,
   "id": "ade92b6f-843b-4152-b9d1-2f1e61feb89c",
   "metadata": {},
   "outputs": [
    {
     "data": {
      "text/plain": [
       "30.0"
      ]
     },
     "execution_count": 79,
     "metadata": {},
     "output_type": "execute_result"
    }
   ],
   "source": [
    "# Calculate the percentage of students who scored above 90\n",
    "percentage_above_90 = (students_above_90 / len(grades)) * 100\n",
    "percentage_above_90"
   ]
  },
  {
   "cell_type": "code",
   "execution_count": 43,
   "id": "ebda337b-f052-466a-9f64-870766dedd13",
   "metadata": {},
   "outputs": [
    {
     "data": {
      "text/plain": [
       "0.0"
      ]
     },
     "execution_count": 43,
     "metadata": {},
     "output_type": "execute_result"
    }
   ],
   "source": [
    "# Calculate the percentage of students who scored below 75\n",
    "students_below_75 = np.sum(grades < 75)\n",
    "percentage_below_75 = (students_below_75 / len(grades)) * 100\n",
    "percentage_below_75"
   ]
  },
  {
   "cell_type": "code",
   "execution_count": 45,
   "id": "f8aa0019-212f-48e7-9ec3-b5d2f9c93a58",
   "metadata": {},
   "outputs": [
    {
     "data": {
      "text/plain": [
       "array([92, 95, 98])"
      ]
     },
     "execution_count": 45,
     "metadata": {},
     "output_type": "execute_result"
    }
   ],
   "source": [
    "# Extract all grades above 90 into \"high_performers\"\n",
    "high_performers = grades[grades > 90]\n",
    "high_performers"
   ]
  },
  {
   "cell_type": "code",
   "execution_count": 47,
   "id": "842552dd-f621-4cee-881a-845f7bf1419a",
   "metadata": {},
   "outputs": [
    {
     "data": {
      "text/plain": [
       "array([85, 90, 88, 92, 95, 80, 98, 89, 83])"
      ]
     },
     "execution_count": 47,
     "metadata": {},
     "output_type": "execute_result"
    }
   ],
   "source": [
    "# Create a new array \"passing_grades\" with grades above 75\n",
    "passing_grades = grades[grades > 75]\n",
    "passing_grades "
   ]
  },
  {
   "cell_type": "code",
   "execution_count": 77,
   "id": "85ffa52a-fdaa-4a43-b055-53ecd57f0ae1",
   "metadata": {},
   "outputs": [
    {
     "name": "stdout",
     "output_type": "stream",
     "text": [
      "Grades: [85 90 88 92 95 80 75 98 89 83]\n",
      "Mean: 87.5\n",
      "Median: 88.5\n",
      "Standard Deviation: 6.591661399070799\n",
      "Maximum Grade: 98\n",
      "Minimum Grade: 75\n",
      "Sorted Grades: [75 80 83 85 88 89 90 92 95 98]\n",
      "Index of Highest Grade: 7\n",
      "Number of Students Above 90: 3\n",
      "Percentage of Students Above 90: 30.00%\n",
      "Percentage of Students Below 75: 0.00%\n",
      "High Performers: [92 95 98]\n",
      "Passing Grades: [85 90 88 92 95 80 98 89 83]\n"
     ]
    }
   ],
   "source": [
    "# Printing all the results\n",
    "print(f\"Grades: {grades}\")\n",
    "print(f\"Mean: {grades_mean}\")\n",
    "print(f\"Median: {grades_median}\")\n",
    "print(f\"Standard Deviation: {grades_std}\")\n",
    "print(f\"Maximum Grade: {grades_max}\")\n",
    "print(f\"Minimum Grade: {grades_min}\")\n",
    "print(f\"Sorted Grades: {sorted_grades}\")\n",
    "print(f\"Index of Highest Grade: {index_highest_grade}\")\n",
    "print(f\"Number of Students Above 90: {students_above_90}\")\n",
    "print(f\"Percentage of Students Above 90: {percentage_above_90:.2f}%\")\n",
    "print(f\"Percentage of Students Below 75: {percentage_below_75:.2f}%\")\n",
    "print(f\"High Performers: {high_performers}\")\n",
    "print(f\"Passing Grades: {passing_grades}\")\n"
   ]
  },
  {
   "cell_type": "code",
   "execution_count": null,
   "id": "b8308546-a4cf-4bb5-b74a-53412446a6c7",
   "metadata": {},
   "outputs": [],
   "source": []
  }
 ],
 "metadata": {
  "kernelspec": {
   "display_name": "Python 3 (ipykernel)",
   "language": "python",
   "name": "python3"
  },
  "language_info": {
   "codemirror_mode": {
    "name": "ipython",
    "version": 3
   },
   "file_extension": ".py",
   "mimetype": "text/x-python",
   "name": "python",
   "nbconvert_exporter": "python",
   "pygments_lexer": "ipython3",
   "version": "3.12.7"
  }
 },
 "nbformat": 4,
 "nbformat_minor": 5
}
