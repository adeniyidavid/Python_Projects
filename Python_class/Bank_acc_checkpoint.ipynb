{
 "cells": [
  {
   "cell_type": "markdown",
   "id": "61677247-1414-435d-8a62-af9b83258071",
   "metadata": {},
   "source": [
    "Create a class called \"Account\" that has the following attributes:\n",
    "\n",
    "account_number (string)\n",
    "account_balance (float)\n",
    "account_holder (string)\n",
    "The class should have the following methods:\n",
    "\n",
    "deposit(amount: float) - This method should add the amount passed as an argument to the account balance.\n",
    "withdraw(amount: float) - This method should subtract the amount passed as an argument from the account balance, but only if the account balance is greater than the amount being withdrawn.\n",
    "check_balance() - This method should return the current account balance.\n",
    "\n",
    "Instructions\n",
    "\n",
    "Create a new file called \"bank_account.py\"\n",
    "Define the Account class and its attributes as specified above.\n",
    "Define the deposit() method. It should take in one argument, the amount to be deposited, and add it to the account balance.\n",
    "Define the withdraw() method. It should take in one argument, the amount to be withdrawn, and subtract it from the account balance. The method should only execute the withdrawal if the account balance is greater than or equal to the amount to be withdrawn.\n",
    "Define the check_balance() method. It should return the current account balance.\n",
    "Create an instance of the Account class, and assign it to a variable called \"my_account\".\n",
    "Use the methods of the class to deposit and withdraw money from the account, and check the account balance.\n",
    "Test the program by creating multiple instances of the class and performing different transactions on them."
   ]
  },
  {
   "cell_type": "code",
   "execution_count": 46,
   "id": "1d469fd9-bc46-4f05-927e-dd56ae283393",
   "metadata": {},
   "outputs": [],
   "source": [
    "# create the class account with 3 different attributes\n",
    "class account:\n",
    "    def __init__(self, account_number: str, account_holder: str, account_balance: float):\n",
    "        self.account_number = account_number\n",
    "        self.account_balance = account_balance\n",
    "        self.account_holder = account_holder\n",
    "        \n",
    "    # creating the deposit method which adds amount specified to account balance\n",
    "    def deposit(self, amount: float):\n",
    "        if amount > 0:\n",
    "            self.account_balance += amount\n",
    "            print(f\"Deposited {amount}, into your bank account and your new balance is {self.account_balance}\")\n",
    "        else:\n",
    "            print('invalid amount')\n",
    "            \n",
    "    # creating the withdraw method which subtracts amount specified from the account balance\n",
    "    def withdraw(self, amount: float):\n",
    "        if amount > 0:\n",
    "            # or if account balance is greater than or equal to amount specified\n",
    "            if self.account_balance >= amount:\n",
    "                self.account_balance -= amount\n",
    "                print(f\"Withdrawn {amount}, from your bank account and your new balance is {self.account_balance}\")\n",
    "            else:\n",
    "                print('insufficient funds')\n",
    "        else:\n",
    "            print('invalid amount')\n",
    "\n",
    "    # return the current account balance\n",
    "    def check_balance(self):\n",
    "        print(f\"Your account balance is {self.account_balance}\")"
   ]
  },
  {
   "cell_type": "code",
   "execution_count": 34,
   "id": "383155bb-9783-4236-8e5e-5c73254825e8",
   "metadata": {},
   "outputs": [
    {
     "name": "stdout",
     "output_type": "stream",
     "text": [
      "Deposited 35000, into your bank account and your new balance is 50000\n"
     ]
    }
   ],
   "source": [
    "my_account = account('2104468050', 'Awolola Adeniyi', 15000)\n",
    "my_account.deposit(35000)"
   ]
  },
  {
   "cell_type": "code",
   "execution_count": 36,
   "id": "82f4a65f-aa2d-4f79-84f9-1b1fd4d826c1",
   "metadata": {},
   "outputs": [
    {
     "name": "stdout",
     "output_type": "stream",
     "text": [
      "Withdrawn 43300, from your bank account and your new balance is 6700\n"
     ]
    }
   ],
   "source": [
    "my_account.withdraw(43300)"
   ]
  },
  {
   "cell_type": "code",
   "execution_count": 38,
   "id": "02d74e8a-4b70-4bb2-a631-26f69eb5452e",
   "metadata": {},
   "outputs": [
    {
     "name": "stdout",
     "output_type": "stream",
     "text": [
      "Your account balance is 6700\n"
     ]
    }
   ],
   "source": [
    "my_account.check_balance()"
   ]
  },
  {
   "cell_type": "code",
   "execution_count": 40,
   "id": "e954bfd9-e0e2-4bf9-866f-e80d998a34e9",
   "metadata": {},
   "outputs": [
    {
     "name": "stdout",
     "output_type": "stream",
     "text": [
      "insufficient funds\n"
     ]
    }
   ],
   "source": [
    "my_account.withdraw(43740)"
   ]
  },
  {
   "cell_type": "code",
   "execution_count": 42,
   "id": "23544c40-ab17-4ea7-bb9a-16369e26e3eb",
   "metadata": {},
   "outputs": [
    {
     "name": "stdout",
     "output_type": "stream",
     "text": [
      "invalid amount\n"
     ]
    }
   ],
   "source": [
    "my_account.withdraw(0)"
   ]
  },
  {
   "cell_type": "code",
   "execution_count": 44,
   "id": "9d47f581-5063-46d0-82d0-bca45f3a7afd",
   "metadata": {},
   "outputs": [
    {
     "name": "stdout",
     "output_type": "stream",
     "text": [
      "invalid amount\n"
     ]
    }
   ],
   "source": [
    "my_account.deposit(0)"
   ]
  },
  {
   "cell_type": "code",
   "execution_count": null,
   "id": "6b9a1022-e4f5-415c-b420-7c785461d130",
   "metadata": {},
   "outputs": [],
   "source": []
  }
 ],
 "metadata": {
  "kernelspec": {
   "display_name": "Python 3 (ipykernel)",
   "language": "python",
   "name": "python3"
  },
  "language_info": {
   "codemirror_mode": {
    "name": "ipython",
    "version": 3
   },
   "file_extension": ".py",
   "mimetype": "text/x-python",
   "name": "python",
   "nbconvert_exporter": "python",
   "pygments_lexer": "ipython3",
   "version": "3.12.7"
  }
 },
 "nbformat": 4,
 "nbformat_minor": 5
}
