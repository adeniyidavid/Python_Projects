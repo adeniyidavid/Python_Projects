{
 "cells": [
  {
   "cell_type": "markdown",
   "id": "49498730-74bc-4e8c-81ac-c23e3bb17f13",
   "metadata": {},
   "source": [
    "### Python Pizza Delivery Project\n",
    " This is a mini python project that takes in pizza order details from customers and prints out thier total bill"
   ]
  },
  {
   "cell_type": "code",
   "execution_count": 66,
   "id": "ded1c182-380d-42f4-8562-55e6eee0d1ae",
   "metadata": {},
   "outputs": [
    {
     "name": "stdout",
     "output_type": "stream",
     "text": [
      "Welcome to python pizza Deliveries\n"
     ]
    },
    {
     "name": "stdin",
     "output_type": "stream",
     "text": [
      "What size of pizza do you want? S, M, L: L\n",
      "Do you want pepperoni on your pizza? Y or N:  Y\n",
      "Do you want extra cheese on your pizza? Y or N:  Y\n"
     ]
    },
    {
     "name": "stdout",
     "output_type": "stream",
     "text": [
      "Your bill is: $28\n"
     ]
    }
   ],
   "source": [
    "# A welcome message\n",
    "print('Welcome to python pizza Deliveries')\n",
    "\n",
    "# Prompts for input of desired pizza size \n",
    "size = input('What size of pizza do you want? S, M, L:').upper()\n",
    "\n",
    "# Prompts for input of pepperoni choice\n",
    "add_pepperoni = input('Do you want pepperoni on your pizza? Y or N: ').upper()\n",
    "\n",
    "# Prompts for input of extra_cheese choice\n",
    "extra_cheese = input('Do you want extra cheese on your pizza? Y or N: ').upper()\n",
    "\n",
    "\n",
    "# cost of pizza based on size \n",
    "bill = 0\n",
    "if size == 'S':\n",
    "    bill = 15\n",
    "if size == 'M':\n",
    "    bill = 20\n",
    "if size == 'L':\n",
    "    bill = 25\n",
    "\n",
    "# cost of pizza based on pepperoni choice\n",
    "if add_pepperoni == 'Y':\n",
    "    bill += 2\n",
    "else:\n",
    "    bill += 3\n",
    "\n",
    "# cost of pizza based on extra_cheese choice\n",
    "if extra_cheese == 'Y':\n",
    "    bill += 1\n",
    "\n",
    "print(f'Your bill is: ${bill}')"
   ]
  }
 ],
 "metadata": {
  "kernelspec": {
   "display_name": "Python 3 (ipykernel)",
   "language": "python",
   "name": "python3"
  },
  "language_info": {
   "codemirror_mode": {
    "name": "ipython",
    "version": 3
   },
   "file_extension": ".py",
   "mimetype": "text/x-python",
   "name": "python",
   "nbconvert_exporter": "python",
   "pygments_lexer": "ipython3",
   "version": "3.12.7"
  }
 },
 "nbformat": 4,
 "nbformat_minor": 5
}
