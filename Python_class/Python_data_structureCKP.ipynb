{
 "cells": [
  {
   "cell_type": "markdown",
   "id": "4450356b-c986-4c18-9970-aa54d5bff68f",
   "metadata": {},
   "source": [
    "## Python data sctructure checkpoint\n",
    "(1)Create a list to store the shopping items (2)Use a while loop to create a menu of options for the user to add, remove, or view items from the list (3)Use a for loop to iterate through the list of items and display them to the user (4)Use the range() function to limit the number of items that can be added to the list (5)Use the list, tuple, set, and dictionary data structures to store and manipulate the shopping items\n"
   ]
  },
  {
   "cell_type": "code",
   "execution_count": null,
   "id": "e69e7a24-f9ba-4053-a651-3622906a8c2f",
   "metadata": {},
   "outputs": [
    {
     "name": "stdout",
     "output_type": "stream",
     "text": [
      "\n",
      "--- Menu ---\n",
      "1. Add an item\n",
      "2. Remove an item\n",
      "3. View all items\n",
      "4. Exit\n"
     ]
    }
   ],
   "source": [
    "# First create an empty list to store items\n",
    "items = []\n",
    "\n",
    "# while loop for the menu\n",
    "while True:\n",
    "\n",
    "    print(\"\\n--- Menu ---\")\n",
    "    print(\"1. Add an item\")\n",
    "    print(\"2. Remove an item\")\n",
    "    print(\"3. View all items\")\n",
    "    print(\"4. Exit\")\n",
    "\n",
    "    # The user's choice\n",
    "    choice = input(\"Choose an option (1-4): \")\n",
    "\n",
    "    # Now the condition for choice 1\n",
    "    if choice == '1':\n",
    "        for _ in range(5 - len(items)):\n",
    "            item = input(\"Enter the item to add: \")\n",
    "            items.append(item)\n",
    "            print(f\"'{item}' has been added to the list.\")\n",
    "        else:\n",
    "\n",
    "            print(\"ops! can't take in more than 5 items\")\n",
    "        \n",
    "        \n",
    "    elif choice == '2':\n",
    "        item = input(\"Enter the item to remove: \")\n",
    "        if item in items:\n",
    "            items.remove(item)\n",
    "            print(f\"'{item}' has been removed from the list.\")\n",
    "        else:\n",
    "            print(f\"'{item}' not found in the list.\")\n",
    "            \n",
    "    elif choice == '3':\n",
    "        if items:\n",
    "            print(\"\\nItems in the list:\")\n",
    "            for i, item in enumerate(items, start=1):\n",
    "                print(f\"{i}. {item}\")\n",
    "        else:\n",
    "            print(\"\\nThe list is empty.\")\n",
    "            \n",
    "    elif choice == '4':\n",
    "        print(\"Goodbye!\")\n",
    "        break  # Exit the while loop\n",
    "    \n",
    "    else:\n",
    "        print(\"Please choose a valid option.\")"
   ]
  },
  {
   "cell_type": "code",
   "execution_count": 41,
   "id": "b803cc2b-5c4e-4ab1-903d-b04d538ea60b",
   "metadata": {},
   "outputs": [
    {
     "data": {
      "text/plain": [
       "['plantain', 'Fish', 'meat']"
      ]
     },
     "execution_count": 41,
     "metadata": {},
     "output_type": "execute_result"
    }
   ],
   "source": [
    "items"
   ]
  },
  {
   "cell_type": "code",
   "execution_count": null,
   "id": "eaab7cb4-6bb7-484e-a60b-f8b3c1a3835b",
   "metadata": {},
   "outputs": [],
   "source": []
  }
 ],
 "metadata": {
  "kernelspec": {
   "display_name": "Python 3 (ipykernel)",
   "language": "python",
   "name": "python3"
  },
  "language_info": {
   "codemirror_mode": {
    "name": "ipython",
    "version": 3
   },
   "file_extension": ".py",
   "mimetype": "text/x-python",
   "name": "python",
   "nbconvert_exporter": "python",
   "pygments_lexer": "ipython3",
   "version": "3.12.7"
  }
 },
 "nbformat": 4,
 "nbformat_minor": 5
}
